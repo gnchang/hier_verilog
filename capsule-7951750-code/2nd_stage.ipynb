{
 "cells": [
  {
   "cell_type": "markdown",
   "metadata": {},
   "source": [
    "# [2nd stage] Verilog Code Generation"
   ]
  },
  {
   "cell_type": "code",
   "execution_count": null,
   "metadata": {
    "scrolled": true
   },
   "outputs": [],
   "source": [
    "from prompts import *\n",
    "from hier_tree import *\n",
    "from code_gen import *"
   ]
  },
  {
   "cell_type": "code",
   "execution_count": null,
   "metadata": {
    "scrolled": true
   },
   "outputs": [],
   "source": [
    "save_dir = \"hierarchy_directory\"\n",
    "file_name = \"hierarchy_name\"\n",
    "version= \"\"\n",
    "top_module_aes = load_tree(save_dir, file_name, version)"
   ]
  },
  {
   "cell_type": "code",
   "execution_count": 5,
   "metadata": {},
   "outputs": [
    {
     "name": "stdout",
     "output_type": "stream",
     "text": [
      "[key_expansion] 2nd stage starts\n",
      "[key_expansion] The testbench generation is starting.\n",
      "\n",
      "\n",
      "JSONL 파일이 'data/our_inputs.jsonl'에 생성되었습니다.\n",
      "2025-05-13 21:55:03.6 | INFO     | all configurations are loaded, starting the main process...\n",
      "2025-05-13 21:55:03.6 | INFO     | \n",
      "2025-05-13 21:55:03.6 | INFO     | ######################### task 1/1 [key_expansion] #########################\n"
     ]
    }
   ],
   "source": [
    "output_dir = \"directory_for_Verilog_code\"\n",
    "Code_Gen_Loop(top_module_aes, output_dir)"
   ]
  }
 ],
 "metadata": {
  "kernelspec": {
   "display_name": "Python 3 (ipykernel)",
   "language": "python",
   "name": "python3"
  },
  "language_info": {
   "codemirror_mode": {
    "name": "ipython",
    "version": 3
   },
   "file_extension": ".py",
   "mimetype": "text/x-python",
   "name": "python",
   "nbconvert_exporter": "python",
   "pygments_lexer": "ipython3",
   "version": "3.12.8"
  }
 },
 "nbformat": 4,
 "nbformat_minor": 4
}
